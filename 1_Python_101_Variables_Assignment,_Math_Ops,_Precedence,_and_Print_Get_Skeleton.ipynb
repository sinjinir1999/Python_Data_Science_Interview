{
  "nbformat": 4,
  "nbformat_minor": 0,
  "metadata": {
    "colab": {
      "name": "1. Python 101 - Variables Assignment, Math Ops, Precedence, and Print/Get - Skeleton.ipynb",
      "provenance": [],
      "collapsed_sections": []
    },
    "kernelspec": {
      "name": "python3",
      "display_name": "Python 3"
    }
  },
  "cells": [
    {
      "cell_type": "markdown",
      "metadata": {
        "id": "B1KBXIYhkuw5"
      },
      "source": [
        "# 1. VARIABLES ASSIGNMENT"
      ]
    },
    {
      "cell_type": "code",
      "metadata": {
        "id": "wsrqiWxMlQcd"
      },
      "source": [
        "# Define a variable named \"portfolio_1\" and assign a number (integer) to it\n",
        "portfolio_1=50000"
      ],
      "execution_count": 1,
      "outputs": []
    },
    {
      "cell_type": "code",
      "metadata": {
        "id": "_7BUQ4lalVpE",
        "colab": {
          "base_uri": "https://localhost:8080/"
        },
        "outputId": "b80628f2-7c9c-4cd6-97d7-15b0a735a9fe"
      },
      "source": [
        "# Let's view \"portfolio_1\"\n",
        "portfolio_1"
      ],
      "execution_count": 2,
      "outputs": [
        {
          "output_type": "execute_result",
          "data": {
            "text/plain": [
              "50000"
            ]
          },
          "metadata": {},
          "execution_count": 2
        }
      ]
    },
    {
      "cell_type": "code",
      "metadata": {
        "id": "5RLjbN6alXBn"
      },
      "source": [
        "# Define a variable named \"portfolio_2\" and assign a number (float) to it\n",
        "portfolio_2=2000.500"
      ],
      "execution_count": 3,
      "outputs": []
    },
    {
      "cell_type": "code",
      "metadata": {
        "id": "XaseHcnvlY7V",
        "colab": {
          "base_uri": "https://localhost:8080/"
        },
        "outputId": "f85318f0-f98f-447f-9fc7-100062dc9cff"
      },
      "source": [
        "# Let's view \"portfolio_2\"\n",
        "portfolio_2"
      ],
      "execution_count": 4,
      "outputs": [
        {
          "output_type": "execute_result",
          "data": {
            "text/plain": [
              "2000.5"
            ]
          },
          "metadata": {},
          "execution_count": 4
        }
      ]
    },
    {
      "cell_type": "code",
      "metadata": {
        "id": "1treMfL5phXx"
      },
      "source": [
        "# Let's overwrite \"portfolio_2\" (assume your portfolio value increased)\n",
        "portfolio_2=portfolio_2+100"
      ],
      "execution_count": 5,
      "outputs": []
    },
    {
      "cell_type": "code",
      "metadata": {
        "id": "QaBaDH0fp5cf",
        "colab": {
          "base_uri": "https://localhost:8080/"
        },
        "outputId": "538854d6-1e06-431c-9ccc-67bc5701711d"
      },
      "source": [
        "# Notice that \"portfolio_2\" will only contain the most recent value\n",
        "portfolio_2"
      ],
      "execution_count": 6,
      "outputs": [
        {
          "output_type": "execute_result",
          "data": {
            "text/plain": [
              "2100.5"
            ]
          },
          "metadata": {},
          "execution_count": 6
        }
      ]
    },
    {
      "cell_type": "code",
      "metadata": {
        "id": "fqZRkUkilb-5",
        "colab": {
          "base_uri": "https://localhost:8080/"
        },
        "outputId": "4caf39be-e951-443a-9096-bc5a42e4bf22"
      },
      "source": [
        "# Get the type of \"portfolio_1\" which is integer\n",
        "# integer is a whole number (no decimals) that could be positive or negative\n",
        "type(portfolio_1)"
      ],
      "execution_count": 7,
      "outputs": [
        {
          "output_type": "execute_result",
          "data": {
            "text/plain": [
              "int"
            ]
          },
          "metadata": {},
          "execution_count": 7
        }
      ]
    },
    {
      "cell_type": "code",
      "metadata": {
        "id": "T0Rszu5xlceK",
        "colab": {
          "base_uri": "https://localhost:8080/"
        },
        "outputId": "dc1e7cd4-0134-4d91-d854-c08a174a2769"
      },
      "source": [
        "# Get the type of \"portfolio_2\" which is float\n",
        "# Float are real numbers with a decimal point dividing the integer and fractional parts\n",
        "type(portfolio_2)"
      ],
      "execution_count": 8,
      "outputs": [
        {
          "output_type": "execute_result",
          "data": {
            "text/plain": [
              "float"
            ]
          },
          "metadata": {},
          "execution_count": 8
        }
      ]
    },
    {
      "cell_type": "markdown",
      "metadata": {
        "id": "75YN6NcVlv50"
      },
      "source": [
        "**MINI CHALLENGE #1:**\n",
        "- **We defined a variable AMZN (Ticker symbol for Amazon stock) and we assigned these 3 values listed below to it. Without executing any code cells, what will these lines of code generate?**\n",
        "- **Verify your answer by executing the code cells** \n",
        "\n",
        "\n",
        "\n",
        "```\n",
        "AMZN = 3324\n",
        "AMZN = 3400\n",
        "AMZN = 3530\n",
        "AMZN\n",
        "```\n"
      ]
    },
    {
      "cell_type": "code",
      "metadata": {
        "id": "AbXq1BsUpcpu",
        "colab": {
          "base_uri": "https://localhost:8080/"
        },
        "outputId": "15fd9489-f131-45de-c787-caab39fc6e9b"
      },
      "source": [
        "AMZN = 3324\n",
        "AMZN = 3400\n",
        "AMZN = 3530\n",
        "AMZN"
      ],
      "execution_count": 11,
      "outputs": [
        {
          "output_type": "execute_result",
          "data": {
            "text/plain": [
              "3530"
            ]
          },
          "metadata": {},
          "execution_count": 11
        }
      ]
    },
    {
      "cell_type": "markdown",
      "metadata": {
        "id": "m-cJsnjeoFOa"
      },
      "source": [
        "**MINI CHALLENGE #2:**\n",
        "- **We defined a variable AAPL (Ticker symbol for Apple stock) and we assigned these 2 values listed below to it. Without executing any code cells, what will these lines of code generate?**\n",
        "- **Verify your answer by executing the code cells** \n",
        "\n",
        "\n",
        "\n",
        "```\n",
        "AAPL = 112\n",
        "AAPL = 115.3\n",
        "type(AAPL)\n",
        "```\n"
      ]
    },
    {
      "cell_type": "code",
      "metadata": {
        "id": "wjaFVDJ2oESl",
        "colab": {
          "base_uri": "https://localhost:8080/"
        },
        "outputId": "a3d322f2-9eb6-4e89-a4a5-0cf6f9a4fcc4"
      },
      "source": [
        "AAPL = 112\n",
        "AAPL = 115.3\n",
        "type(AAPL)"
      ],
      "execution_count": 12,
      "outputs": [
        {
          "output_type": "execute_result",
          "data": {
            "text/plain": [
              "float"
            ]
          },
          "metadata": {},
          "execution_count": 12
        }
      ]
    },
    {
      "cell_type": "markdown",
      "metadata": {
        "id": "lsCfJJEkkqGQ"
      },
      "source": [
        "# 2. MATH OPERATIONS"
      ]
    },
    {
      "cell_type": "code",
      "metadata": {
        "id": "vxspxvj2qTrx",
        "colab": {
          "base_uri": "https://localhost:8080/"
        },
        "outputId": "9fe0c3b8-0113-4de8-fc51-a5f62e9aba9b"
      },
      "source": [
        "# Define a variable named AAPL and initialize it with 5 indicating that we own 5 stocks\n",
        "# Let's assume that we bought an additional stock so now we have 6 stocks instead of 5 \n",
        "# We can increment AAPL by 1 stock as follows:\n",
        "AAPL=5\n",
        "AAPL=AAPL+1\n",
        "AAPL"
      ],
      "execution_count": 14,
      "outputs": [
        {
          "output_type": "execute_result",
          "data": {
            "text/plain": [
              "6"
            ]
          },
          "metadata": {},
          "execution_count": 14
        }
      ]
    },
    {
      "cell_type": "code",
      "metadata": {
        "id": "ouiM4Bjar5aG",
        "colab": {
          "base_uri": "https://localhost:8080/"
        },
        "outputId": "f14be84f-07de-4c0b-d9d4-0d96f22a151e"
      },
      "source": [
        "# Alternatively, we can increment the variable AAPL by 1 as follows:\n",
        "AAPL=5\n",
        "AAPL+=1\n",
        "AAPL"
      ],
      "execution_count": 16,
      "outputs": [
        {
          "output_type": "execute_result",
          "data": {
            "text/plain": [
              "6"
            ]
          },
          "metadata": {},
          "execution_count": 16
        }
      ]
    },
    {
      "cell_type": "code",
      "metadata": {
        "id": "zkO001-qcZc3",
        "colab": {
          "base_uri": "https://localhost:8080/"
        },
        "outputId": "fe826299-1508-401f-ad01-13718d473e41"
      },
      "source": [
        "# Let's assume that the price of AAPL stock is $260 and we currently have 5 AAPL stocks in our portfolio\n",
        "# We can calculate the total portfolio value (account balance) as follows:\n",
        "AAPL=5\n",
        "balance=260*AAPL\n",
        "balance"
      ],
      "execution_count": 18,
      "outputs": [
        {
          "output_type": "execute_result",
          "data": {
            "text/plain": [
              "1300"
            ]
          },
          "metadata": {},
          "execution_count": 18
        }
      ]
    },
    {
      "cell_type": "code",
      "metadata": {
        "id": "4bXP93aqejr1",
        "colab": {
          "base_uri": "https://localhost:8080/"
        },
        "outputId": "82e002dc-0d27-4528-d44c-021021efd2a0"
      },
      "source": [
        "# Let's assume you have $20000 USD in our account\n",
        "# We want to buy AMZN stocks using the total amount \n",
        "# AMZN stock is priced at $3116 each\n",
        "amount=20000\n",
        "price=3116\n",
        "number_of_stocks=amount/price\n",
        "number_of_stocks\n"
      ],
      "execution_count": 20,
      "outputs": [
        {
          "output_type": "execute_result",
          "data": {
            "text/plain": [
              "6.418485237483954"
            ]
          },
          "metadata": {},
          "execution_count": 20
        }
      ]
    },
    {
      "cell_type": "code",
      "metadata": {
        "id": "Mc569vLOqxzg",
        "colab": {
          "base_uri": "https://localhost:8080/"
        },
        "outputId": "1c2193fa-3a87-461f-a9f3-843a4e6cda0e"
      },
      "source": [
        "# Divide the account balance by Amazon stock price and place the answer in units\n",
        "number_of_stocks=amount/price\n",
        "number_of_stocks"
      ],
      "execution_count": 21,
      "outputs": [
        {
          "output_type": "execute_result",
          "data": {
            "text/plain": [
              "6.418485237483954"
            ]
          },
          "metadata": {},
          "execution_count": 21
        }
      ]
    },
    {
      "cell_type": "markdown",
      "metadata": {
        "id": "8UaT7FRdNnCQ"
      },
      "source": [
        "**MINI CHALLENGE #3:** \n",
        "- **Write a code that calculates the total value of a portfolio assuming that you own 15 Google stocks (Sticker Symbol: GOOG) priced at 1500 each** \n"
      ]
    },
    {
      "cell_type": "code",
      "metadata": {
        "id": "qMFnXorONnoa",
        "colab": {
          "base_uri": "https://localhost:8080/"
        },
        "outputId": "023c4264-88a0-4729-d3ca-88dc6f2d8fe5"
      },
      "source": [
        "price=15000\n",
        "number=15\n",
        "amount=number*price\n",
        "amount"
      ],
      "execution_count": 22,
      "outputs": [
        {
          "output_type": "execute_result",
          "data": {
            "text/plain": [
              "225000"
            ]
          },
          "metadata": {},
          "execution_count": 22
        }
      ]
    },
    {
      "cell_type": "markdown",
      "metadata": {
        "id": "iB_6pgJeNnCV"
      },
      "source": [
        "**MINI CHALLENGE #4:**\n",
        "- **Write a code that takes in Google (GOOG) stock prices at two days and calculate the return:**\n",
        "  - **GOOG price on day 1 = \\$260** \n",
        "  - **GOOG price on day 2 = \\$280**"
      ]
    },
    {
      "cell_type": "code",
      "source": [
        "g1=260\n",
        "g2=280\n",
        "diff=g2-g1\n",
        "diff_perc=diff/g1*100\n",
        "diff\n",
        "diff_perc"
      ],
      "metadata": {
        "id": "7zmQky3J4Yyg",
        "outputId": "5ab9a2fc-edfd-4ea9-cb68-1c0c83855145",
        "colab": {
          "base_uri": "https://localhost:8080/"
        }
      },
      "execution_count": 23,
      "outputs": [
        {
          "output_type": "execute_result",
          "data": {
            "text/plain": [
              "7.6923076923076925"
            ]
          },
          "metadata": {},
          "execution_count": 23
        }
      ]
    },
    {
      "cell_type": "markdown",
      "metadata": {
        "id": "b_4wxmCklMQE"
      },
      "source": [
        "# 3. ORDER OF OPERATIONS (PRECEDENCE)"
      ]
    },
    {
      "cell_type": "code",
      "metadata": {
        "id": "PDPpISzEkov3",
        "colab": {
          "base_uri": "https://localhost:8080/"
        },
        "outputId": "d122dc66-f9bf-4c78-a4a0-75bce233d42f"
      },
      "source": [
        "# add 3 and 4 and then multiply the answer by 5\n",
        "# Note that parantheses have the highest precedence\n",
        "ans=(3+4)*5\n",
        "ans"
      ],
      "execution_count": 24,
      "outputs": [
        {
          "output_type": "execute_result",
          "data": {
            "text/plain": [
              "35"
            ]
          },
          "metadata": {},
          "execution_count": 24
        }
      ]
    },
    {
      "cell_type": "code",
      "metadata": {
        "id": "lqvGyX4psG6L",
        "colab": {
          "base_uri": "https://localhost:8080/"
        },
        "outputId": "a4c1eec4-6462-4e17-be50-8f625614abe4"
      },
      "source": [
        "# Multiplication has higher precedence compared to addition\n",
        "ans=3+4*5\n",
        "ans"
      ],
      "execution_count": 25,
      "outputs": [
        {
          "output_type": "execute_result",
          "data": {
            "text/plain": [
              "23"
            ]
          },
          "metadata": {},
          "execution_count": 25
        }
      ]
    },
    {
      "cell_type": "code",
      "metadata": {
        "id": "Nx2IPN34sI0A",
        "colab": {
          "base_uri": "https://localhost:8080/"
        },
        "outputId": "03119d87-55d7-4b08-ff69-fbb2a30ec4ee"
      },
      "source": [
        "# Division has higher precedence compared to addition\n",
        "ans=3+10/2\n",
        "ans"
      ],
      "execution_count": 26,
      "outputs": [
        {
          "output_type": "execute_result",
          "data": {
            "text/plain": [
              "8.0"
            ]
          },
          "metadata": {},
          "execution_count": 26
        }
      ]
    },
    {
      "cell_type": "code",
      "metadata": {
        "id": "A-sBw_wsdRTc"
      },
      "source": [
        ""
      ],
      "execution_count": null,
      "outputs": []
    },
    {
      "cell_type": "markdown",
      "metadata": {
        "id": "LD0jeVJddRrf"
      },
      "source": [
        "**MINI CHALLENGE #5:**\n",
        "- **Assume that you own 15 shares of AAPL stock priced at \\$150 a share. Apple announced the launch of 5 new products with exceptional features so the stock price increased to $170 a share. Calculate the total profit.**\n",
        "\n",
        "\n",
        "\n",
        "\n"
      ]
    },
    {
      "cell_type": "code",
      "metadata": {
        "id": "ieENt2DUNwDC",
        "colab": {
          "base_uri": "https://localhost:8080/"
        },
        "outputId": "a44a5ccc-36a2-478e-ebe2-917ba14a5ee1"
      },
      "source": [
        "n=15\n",
        "price=150\n",
        "new_price=170\n",
        "diff=(new_price-price)*n\n",
        "diff"
      ],
      "execution_count": 27,
      "outputs": [
        {
          "output_type": "execute_result",
          "data": {
            "text/plain": [
              "300"
            ]
          },
          "metadata": {},
          "execution_count": 27
        }
      ]
    },
    {
      "cell_type": "markdown",
      "metadata": {
        "id": "s79S7MtycPGX"
      },
      "source": [
        "**MINI CHALLENGE #6:** \n",
        "- **Write a code that performs the following mathematical operation: z = |x − y| * (x + y)**"
      ]
    },
    {
      "cell_type": "code",
      "metadata": {
        "id": "yGVvKkDKc0LR",
        "colab": {
          "base_uri": "https://localhost:8080/"
        },
        "outputId": "bdec1ada-348e-4503-a743-cf9b84aa5244"
      },
      "source": [
        "x=4\n",
        "y=2\n",
        "z=abs(x-y)*(x+y)\n",
        "z\n"
      ],
      "execution_count": 28,
      "outputs": [
        {
          "output_type": "execute_result",
          "data": {
            "text/plain": [
              "12"
            ]
          },
          "metadata": {},
          "execution_count": 28
        }
      ]
    },
    {
      "cell_type": "markdown",
      "metadata": {
        "id": "Jvxd_A696qnl"
      },
      "source": [
        "# 4. PRINT OPERATION"
      ]
    },
    {
      "cell_type": "code",
      "metadata": {
        "id": "74NV4Ix36wE2",
        "colab": {
          "base_uri": "https://localhost:8080/"
        },
        "outputId": "9ca3213d-e16b-4e07-ca2a-11e450d8c26e"
      },
      "source": [
        "# Print function is used to print elements on the screen\n",
        "# Define a string x \n",
        "# A string in Python is a sequence of characters\n",
        "# String in python are surrounded by single or double quotation marks\n",
        "x='Sinjini'\n",
        "print(x)"
      ],
      "execution_count": 41,
      "outputs": [
        {
          "output_type": "stream",
          "name": "stdout",
          "text": [
            "Sinjini\n"
          ]
        }
      ]
    },
    {
      "cell_type": "code",
      "metadata": {
        "id": "08UQhKoR8d3H",
        "colab": {
          "base_uri": "https://localhost:8080/"
        },
        "outputId": "8cdc3e05-7aeb-4fc5-dc07-58834d682a5d"
      },
      "source": [
        "# Obtain the data type for 'x'\n",
        "type(x)"
      ],
      "execution_count": 42,
      "outputs": [
        {
          "output_type": "execute_result",
          "data": {
            "text/plain": [
              "str"
            ]
          },
          "metadata": {},
          "execution_count": 42
        }
      ]
    },
    {
      "cell_type": "code",
      "metadata": {
        "id": "1nHBcL7D61YQ",
        "colab": {
          "base_uri": "https://localhost:8080/"
        },
        "outputId": "380f3bd1-4ab9-4b99-e49a-21516a743d04"
      },
      "source": [
        "# Print x\n",
        "print(x)"
      ],
      "execution_count": 43,
      "outputs": [
        {
          "output_type": "stream",
          "name": "stdout",
          "text": [
            "Sinjini\n"
          ]
        }
      ]
    },
    {
      "cell_type": "code",
      "metadata": {
        "id": "J_r5_BGt7Wsg",
        "colab": {
          "base_uri": "https://localhost:8080/"
        },
        "outputId": "351ea063-619b-4ab0-e0e1-1d54a8b1c19e"
      },
      "source": [
        "# The format() method formats the specified value and insert it in the placeholder. \n",
        "# The placeholder is defined using curly braces: {}\n",
        "print('The string is {}'.format(str))"
      ],
      "execution_count": 45,
      "outputs": [
        {
          "output_type": "stream",
          "name": "stdout",
          "text": [
            "The string is Apple Inc.\n"
          ]
        }
      ]
    },
    {
      "cell_type": "markdown",
      "metadata": {
        "id": "__Ybj8rmGKpY"
      },
      "source": [
        "**MINI CHALLENGE #7:**\n",
        "- **Write a code that print out the above statement along with AAPL ticker**\n",
        "- **i.e.: I own 30 shares of Apple Inc.(AAPL)** "
      ]
    },
    {
      "cell_type": "code",
      "metadata": {
        "id": "i6LmOCF6Gd6G",
        "colab": {
          "base_uri": "https://localhost:8080/"
        },
        "outputId": "680ff490-e952-4dea-ea72-93b3879e04a8"
      },
      "source": [
        "str1='AAPL'\n",
        "n=30\n",
        "print(' I own {} shares of {}({})'.format(n,str,str1))"
      ],
      "execution_count": 46,
      "outputs": [
        {
          "output_type": "stream",
          "name": "stdout",
          "text": [
            " I own 30 shares of Apple Inc.(AAPL)\n"
          ]
        }
      ]
    },
    {
      "cell_type": "markdown",
      "metadata": {
        "id": "hp9P-qXN-Gll"
      },
      "source": [
        "# 5. GET USER INPUT"
      ]
    },
    {
      "cell_type": "code",
      "metadata": {
        "id": "FFghOQVi7Wh_",
        "colab": {
          "base_uri": "https://localhost:8080/"
        },
        "outputId": "bb4c8e54-b91f-4038-fd3a-4787a8a4ccdd"
      },
      "source": [
        "# input is a built-in function in python\n",
        "# Get bank client name as an input and print it out on the screen \n",
        "name=input('Welcome to the Bank:')"
      ],
      "execution_count": 47,
      "outputs": [
        {
          "name": "stdout",
          "output_type": "stream",
          "text": [
            "Welcome to the Bank:Sinjini Roy\n"
          ]
        }
      ]
    },
    {
      "cell_type": "code",
      "metadata": {
        "id": "u4D5GDGP7Wgm",
        "colab": {
          "base_uri": "https://localhost:8080/"
        },
        "outputId": "c90a7cdc-b784-47e0-cf18-86fd7d89283f"
      },
      "source": [
        "# Obtain bank client data such as name, age and assets and print them all out on the screen\n",
        "name=input('Welcome to the Bank:')\n",
        "age=input('Enter age:')\n",
        "networth=input('Enter your total networth (assests-liabilities):')\n",
        "print('I am {},My age is {}, My networth is {}'.format(name,age,networth)) "
      ],
      "execution_count": 53,
      "outputs": [
        {
          "output_type": "stream",
          "name": "stdout",
          "text": [
            "Welcome to the Bank:Sinjini Roy\n",
            "Enter age:22\n",
            "Enter your total networth (assests-liabilities):1500000\n",
            "I am Sinjini Roy,My age is 22, My networth is 1500000\n"
          ]
        }
      ]
    },
    {
      "cell_type": "code",
      "metadata": {
        "id": "abPg-86q7Waq",
        "colab": {
          "base_uri": "https://localhost:8080/",
          "height": 35
        },
        "outputId": "0ad0cd4c-e467-4cad-c808-6808d66fa3b1"
      },
      "source": [
        "# Convert from string datatype to integer datatype prior to performing addition\n",
        "x='5'\n",
        "y=int(x)\n",
        "y\n",
        "x"
      ],
      "execution_count": 57,
      "outputs": [
        {
          "output_type": "execute_result",
          "data": {
            "application/vnd.google.colaboratory.intrinsic+json": {
              "type": "string"
            },
            "text/plain": [
              "'5'"
            ]
          },
          "metadata": {},
          "execution_count": 57
        }
      ]
    },
    {
      "cell_type": "markdown",
      "metadata": {
        "id": "_wuaDbzWm-i8"
      },
      "source": [
        "# MINI CHALLENGES SOLUTIONS"
      ]
    },
    {
      "cell_type": "markdown",
      "metadata": {
        "id": "Xq-Y8OW0nG8O"
      },
      "source": [
        "**MINI CHALLENGE #1:**\n",
        "- **We defined a variable AMZN (Ticker symbol for Amazon stock) and we assigned these 3 values listed below to it. Without executing any code cells, what will these lines of code generate?**\n",
        "- **Verify your answer by executing the code cells** \n",
        "\n",
        "\n",
        "\n",
        "```\n",
        "AMZN = 3324\n",
        "AMZN = 3400\n",
        "AMZN = 3530\n",
        "AMZN\n",
        "```\n"
      ]
    },
    {
      "cell_type": "code",
      "metadata": {
        "id": "R_CHNPWbnAf0"
      },
      "source": [
        "# The output of this code is 3530\n",
        "# Initially we put 3324 in AMZN, then we overwrite it by placing 3400 in AMZN, and then 3530 in AMZN\n",
        "AMZN = 3324\n",
        "AMZN = 3400\n",
        "AMZN = 3530\n",
        "AMZN"
      ],
      "execution_count": null,
      "outputs": []
    },
    {
      "cell_type": "markdown",
      "metadata": {
        "id": "0tFG_HiJoWiM"
      },
      "source": [
        "**MINI CHALLENGE #2:**\n",
        "- **We defined a variable AAPL (Ticker symbol for Apple stock) and we assigned these 2 values listed below to it. Without executing any code cells, what will these lines of code generate?**\n",
        "- **Verify your answer by executing the code cells** \n",
        "\n",
        "\n",
        "\n",
        "```\n",
        "AAPL = 112\n",
        "AAPL = 115.3\n",
        "type(AAPL)\n",
        "```"
      ]
    },
    {
      "cell_type": "code",
      "metadata": {
        "id": "p449NLcAnCbu"
      },
      "source": [
        "AAPL = 112\n",
        "AAPL = 115.3\n",
        "type(AAPL)"
      ],
      "execution_count": null,
      "outputs": []
    },
    {
      "cell_type": "markdown",
      "metadata": {
        "id": "ayH1UnrYYokG"
      },
      "source": [
        "**MINI CHALLENGE #3 SOLUTION:** \n",
        "- **Write a code that calculates the total value of a portfolio assuming that you own 15 Google stocks (Sticker Symbol: GOOG) priced at 1500 each** \n"
      ]
    },
    {
      "cell_type": "code",
      "metadata": {
        "id": "6XGSaa4uoZgs",
        "colab": {
          "base_uri": "https://localhost:8080/"
        },
        "outputId": "ade6bfe6-1eb4-4eb6-feb3-675d367af75e"
      },
      "source": [
        "price  = 1500\n",
        "x  = 15\n",
        "amount = x * price\n",
        "amount"
      ],
      "execution_count": 58,
      "outputs": [
        {
          "output_type": "execute_result",
          "data": {
            "text/plain": [
              "22500"
            ]
          },
          "metadata": {},
          "execution_count": 58
        }
      ]
    },
    {
      "cell_type": "markdown",
      "metadata": {
        "id": "kfyhdekfaUnr"
      },
      "source": [
        "**MINI CHALLENGE #4 SOLUTION:**\n",
        "- **Write a code that takes in Google (GOOG) stock prices at two days and calculate the return:**\n",
        "  - **GOOG price on day 1 = \\$260** \n",
        "  - **GOOG price on day 2 = \\$280**"
      ]
    },
    {
      "cell_type": "code",
      "metadata": {
        "id": "SUdMEr51Y0cR",
        "colab": {
          "base_uri": "https://localhost:8080/"
        },
        "outputId": "3585b115-636a-4cd3-9b6d-a8832cad12d4"
      },
      "source": [
        "GOOG_price_1 = 260\n",
        "GOOG_price_2 = 280\n",
        "\n",
        "price_diff = GOOG_price_2 - GOOG_price_1\n",
        "percentage_change = price_diff / GOOG_price_1 * 100\n",
        "\n",
        "percentage_change"
      ],
      "execution_count": 59,
      "outputs": [
        {
          "output_type": "execute_result",
          "data": {
            "text/plain": [
              "7.6923076923076925"
            ]
          },
          "metadata": {},
          "execution_count": 59
        }
      ]
    },
    {
      "cell_type": "markdown",
      "metadata": {
        "id": "fSJnUnEvdv3T"
      },
      "source": [
        "**MINI CHALLENGE #5 SOLUTION:**\n",
        "- **Assume that you own 15 shares of AAPL stock priced at \\$150 a share. Apple announced the launch of 5 new products with exceptional features so the stock price increased to $170 a share. Calculate the total profit.**\n"
      ]
    },
    {
      "cell_type": "code",
      "metadata": {
        "id": "xf-UX5aFd11W",
        "colab": {
          "base_uri": "https://localhost:8080/"
        },
        "outputId": "d17d6e0c-157c-48aa-d568-5a62b01b8c96"
      },
      "source": [
        "AAPL_new = 170\n",
        "AAPL_old = 150\n",
        "num_shares = 15\n",
        "profit = (AAPL_new - AAPL_old) * num_shares   \n",
        "profit"
      ],
      "execution_count": 60,
      "outputs": [
        {
          "output_type": "execute_result",
          "data": {
            "text/plain": [
              "300"
            ]
          },
          "metadata": {},
          "execution_count": 60
        }
      ]
    },
    {
      "cell_type": "markdown",
      "metadata": {
        "id": "z0zgdSWqc2oa"
      },
      "source": [
        "**MINI CHALLENGE #6 SOLUTION:** \n",
        "- **Write a code that performs the following mathematical operation: z = |x − y| * (x + y)**"
      ]
    },
    {
      "cell_type": "code",
      "metadata": {
        "id": "zILwh7ILc4kq"
      },
      "source": [
        "x = 4\n",
        "y = 2\n",
        "z = abs(x-y) * (x+y)"
      ],
      "execution_count": 61,
      "outputs": []
    },
    {
      "cell_type": "markdown",
      "metadata": {
        "id": "GSto5juvGlGM"
      },
      "source": [
        "**MINI CHALLENGE #7 SOLUTION:**\n",
        "- **Write a code that print out the above statement along with AAPL ticker**\n",
        "- **i.e.: I own 30 shares of Apple Inc.(AAPL)** "
      ]
    },
    {
      "cell_type": "markdown",
      "metadata": {
        "id": "iKU27yueFUoI"
      },
      "source": [
        "**MINI CHALLENGE #8 SOLUTION:** \n",
        "- **Write a code that takes in the name of the stock, price at which it is selling, the number of stocks that you want to own and prints out the total funds required to buy this stock. Find a sample expected output below:**\n",
        "\n",
        "  - Enter the price of the stock you want to buy: 3000  \n",
        "  - Enter the number of stocks that you want to buy: 5\n",
        "  - Enter the name of the stock that you want to buy: AMZN\n",
        "  - The total funds required to buy 5 number of AMZN stocks at 3000 is 15000\n",
        "\n"
      ]
    },
    {
      "cell_type": "code",
      "metadata": {
        "id": "YsOyGpwiFWDK",
        "colab": {
          "base_uri": "https://localhost:8080/"
        },
        "outputId": "4c83bd9d-d7e7-4eab-fd4d-1464ddb72af6"
      },
      "source": [
        "x = input(\"Enter the price of the stock you want to buy: \")\n",
        "x = int(x)\n",
        "y = input(\"Enter the number of stocks that you want to buy: \")\n",
        "y = int(y)\n",
        "z = input(\"Enter the name of the stock that you want to buy: \")\n",
        "print('The total funds required to buy {} number of {} stocks at {} is {}'.format(y,z,x, x*y)) "
      ],
      "execution_count": 63,
      "outputs": [
        {
          "output_type": "stream",
          "name": "stdout",
          "text": [
            "Enter the price of the stock you want to buy: 5000\n",
            "Enter the number of stocks that you want to buy: 5\n",
            "Enter the name of the stock that you want to buy: XYZ\n",
            "The total funds required to buy 5 number of XYZ stocks at 5000 is 25000\n"
          ]
        }
      ]
    }
  ]
}